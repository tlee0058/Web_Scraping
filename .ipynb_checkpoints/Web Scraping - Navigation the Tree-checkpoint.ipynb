{
 "cells": [
  {
   "cell_type": "code",
   "execution_count": 1,
   "metadata": {},
   "outputs": [],
   "source": [
    "from bs4 import BeautifulSoup"
   ]
  },
  {
   "cell_type": "code",
   "execution_count": 6,
   "metadata": {},
   "outputs": [],
   "source": [
    "#create html doc\n",
    "book_html_doc = \"\"\"<catalog>\n",
    "<head><title>The web book catalog</title></head>\n",
    "<p class=\"title\"><b>The Book Catalog</b></p>\n",
    "<books>\n",
    "<book id=\"bk001\">\n",
    "<author>Hightower, Kim</author>\n",
    "<title>The First Book </title>\n",
    "    <genre>Fiction</genre>\n",
    "    <price>44.95</price>\n",
    "    <pub_date>2000-10-01</pub_date>\n",
    "    <review>An Amazing Story of nothing.</review>\n",
    "</book>\n",
    "<book id=\"bk002\">\n",
    "<author>Nagata, Suanne</author>\n",
    "<title>Becoming Somebody</title>\n",
    "<genre>Biography</genre>\n",
    "<review>A masterpiece of the first </review>\n",
    "</book>\n",
    "<book id=\"bk003\">\n",
    "<author>Oberg, Bruce </author>\n",
    "<title>The Poet's first Poem</title>\n",
    "<genre>Poem</genre>\n",
    "<price>24.95</price>\n",
    "<review>The least poetic poems of the decade</review>\n",
    "</book>\n",
    "</books>\n",
    "</catalog>\n",
    "\"\"\""
   ]
  },
  {
   "cell_type": "code",
   "execution_count": 7,
   "metadata": {},
   "outputs": [],
   "source": [
    "#create a soup object\n",
    "book_soup = BeautifulSoup(book_html_doc, 'html.parser')"
   ]
  },
  {
   "cell_type": "code",
   "execution_count": 8,
   "metadata": {},
   "outputs": [
    {
     "name": "stdout",
     "output_type": "stream",
     "text": [
      "<catalog>\n",
      "<head><title>The web book catalog</title></head>\n",
      "<p class=\"title\"><b>The Book Catalog</b></p>\n",
      "<books>\n",
      "<book id=\"bk001\">\n",
      "<author>Hightower, Kim</author>\n",
      "<title>The First Book </title>\n",
      "<genre>Fiction</genre>\n",
      "<price>44.95</price>\n",
      "<pub_date>2000-10-01</pub_date>\n",
      "<review>An Amazing Story of nothing.</review>\n",
      "</book>\n",
      "<book id=\"bk002\">\n",
      "<author>Nagata, Suanne</author>\n",
      "<title>Becoming Somebody</title>\n",
      "<genre>Biography</genre>\n",
      "<review>A masterpiece of the first </review>\n",
      "</book>\n",
      "<book id=\"bk003\">\n",
      "<author>Oberg, Bruce </author>\n",
      "<title>The Poet's first Poem</title>\n",
      "<genre>Poem</genre>\n",
      "<price>24.95</price>\n",
      "<review>The least poetic poems of the decade</review>\n",
      "</book>\n",
      "</books>\n",
      "</catalog>\n"
     ]
    }
   ],
   "source": [
    "print book_soup.catalog"
   ]
  },
  {
   "cell_type": "code",
   "execution_count": 9,
   "metadata": {},
   "outputs": [
    {
     "data": {
      "text/plain": [
       "<head><title>The web book catalog</title></head>"
      ]
     },
     "execution_count": 9,
     "metadata": {},
     "output_type": "execute_result"
    }
   ],
   "source": [
    "#view the head of the book html doc\n",
    "book_soup.head"
   ]
  },
  {
   "cell_type": "code",
   "execution_count": 10,
   "metadata": {},
   "outputs": [
    {
     "data": {
      "text/plain": [
       "<title>The web book catalog</title>"
      ]
     },
     "execution_count": 10,
     "metadata": {},
     "output_type": "execute_result"
    }
   ],
   "source": [
    "#view the title of the book html doc\n",
    "title_tag = book_soup.title\n",
    "title_tag"
   ]
  },
  {
   "cell_type": "code",
   "execution_count": 11,
   "metadata": {},
   "outputs": [
    {
     "name": "stdout",
     "output_type": "stream",
     "text": [
      "<p class=\"title\"><b>The Book Catalog</b></p>\n"
     ]
    }
   ],
   "source": [
    "#print the catalog bold tag\n",
    "print book_soup.catalog.p"
   ]
  },
  {
   "cell_type": "code",
   "execution_count": 12,
   "metadata": {},
   "outputs": [
    {
     "name": "stdout",
     "output_type": "stream",
     "text": [
      "<title>The web book catalog</title>\n",
      "The web book catalog\n"
     ]
    }
   ],
   "source": [
    "#navigate down the descendants and print them\n",
    "for descen in book_soup.head.descendants:\n",
    "    print descen"
   ]
  },
  {
   "cell_type": "code",
   "execution_count": 19,
   "metadata": {},
   "outputs": [
    {
     "name": "stdout",
     "output_type": "stream",
     "text": [
      "u'The web book catalog'\n",
      "u'The Book Catalog'\n",
      "u'Hightower, Kim'\n",
      "u'The First Book'\n",
      "u'Fiction'\n",
      "u'44.95'\n",
      "u'2000-10-01'\n",
      "u'An Amazing Story of nothing.'\n",
      "u'Nagata, Suanne'\n",
      "u'Becoming Somebody'\n",
      "u'Biography'\n",
      "u'A masterpiece of the first'\n",
      "u'Oberg, Bruce'\n",
      "u\"The Poet's first Poem\"\n",
      "u'Poem'\n",
      "u'24.95'\n",
      "u'The least poetic poems of the decade'\n"
     ]
    }
   ],
   "source": [
    "#navigate down using stripped string method\n",
    "for string in book_soup.stripped_strings:\n",
    "    print repr(string)"
   ]
  },
  {
   "cell_type": "code",
   "execution_count": 20,
   "metadata": {},
   "outputs": [
    {
     "data": {
      "text/plain": [
       "<head><title>The web book catalog</title></head>"
      ]
     },
     "execution_count": 20,
     "metadata": {},
     "output_type": "execute_result"
    }
   ],
   "source": [
    "#navigate up using parent method\n",
    "title_tag.parent"
   ]
  },
  {
   "cell_type": "code",
   "execution_count": 21,
   "metadata": {},
   "outputs": [],
   "source": [
    "#create element object to navigate back and forth\n",
    "element_soup = book_soup.catalog.books"
   ]
  },
  {
   "cell_type": "code",
   "execution_count": 24,
   "metadata": {},
   "outputs": [
    {
     "data": {
      "text/plain": [
       "<book id=\"bk001\">\\n<author>Hightower, Kim</author>\\n<title>The First Book </title>\\n<genre>Fiction</genre>\\n<price>44.95</price>\\n<pub_date>2000-10-01</pub_date>\\n<review>An Amazing Story of nothing.</review>\\n</book>"
      ]
     },
     "execution_count": 24,
     "metadata": {},
     "output_type": "execute_result"
    }
   ],
   "source": [
    "#navigate forward using next_element method\n",
    "next_element = element_soup.next_element.next_element\n",
    "next_element"
   ]
  },
  {
   "cell_type": "code",
   "execution_count": 25,
   "metadata": {},
   "outputs": [],
   "source": [
    "#navigate back using previous_element method\n",
    "previous_element = next_element.previous_element.previous_element"
   ]
  },
  {
   "cell_type": "code",
   "execution_count": 26,
   "metadata": {},
   "outputs": [
    {
     "data": {
      "text/plain": [
       "<book id=\"bk001\">\\n<author>Hightower, Kim</author>\\n<title>The First Book </title>\\n<genre>Fiction</genre>\\n<price>44.95</price>\\n<pub_date>2000-10-01</pub_date>\\n<review>An Amazing Story of nothing.</review>\\n</book>"
      ]
     },
     "execution_count": 26,
     "metadata": {},
     "output_type": "execute_result"
    }
   ],
   "source": [
    "#create a sibling object and navigate to view it\n",
    "next_sibling = book_soup.catalog.books.book\n",
    "next_sibling"
   ]
  },
  {
   "cell_type": "code",
   "execution_count": 27,
   "metadata": {},
   "outputs": [
    {
     "data": {
      "text/plain": [
       "<book id=\"bk002\">\\n<author>Nagata, Suanne</author>\\n<title>Becoming Somebody</title>\\n<genre>Biography</genre>\\n<review>A masterpiece of the first </review>\\n</book>"
      ]
     },
     "execution_count": 27,
     "metadata": {},
     "output_type": "execute_result"
    }
   ],
   "source": [
    "#navigate to next sibling\n",
    "next_sibling2 = next_sibling.next_sibling\n",
    "next_sibling2.next_sibling"
   ]
  },
  {
   "cell_type": "code",
   "execution_count": 28,
   "metadata": {},
   "outputs": [
    {
     "data": {
      "text/plain": [
       "<book id=\"bk001\">\\n<author>Hightower, Kim</author>\\n<title>The First Book </title>\\n<genre>Fiction</genre>\\n<price>44.95</price>\\n<pub_date>2000-10-01</pub_date>\\n<review>An Amazing Story of nothing.</review>\\n</book>"
      ]
     },
     "execution_count": 28,
     "metadata": {},
     "output_type": "execute_result"
    }
   ],
   "source": [
    "#navigate to previous silbing\n",
    "previous_sibling = next_sibling2.previous_sibling\n",
    "previous_sibling"
   ]
  },
  {
   "cell_type": "code",
   "execution_count": null,
   "metadata": {},
   "outputs": [],
   "source": []
  }
 ],
 "metadata": {
  "kernelspec": {
   "display_name": "Python 2",
   "language": "python",
   "name": "python2"
  },
  "language_info": {
   "codemirror_mode": {
    "name": "ipython",
    "version": 2
   },
   "file_extension": ".py",
   "mimetype": "text/x-python",
   "name": "python",
   "nbconvert_exporter": "python",
   "pygments_lexer": "ipython2",
   "version": "2.7.14"
  }
 },
 "nbformat": 4,
 "nbformat_minor": 2
}
