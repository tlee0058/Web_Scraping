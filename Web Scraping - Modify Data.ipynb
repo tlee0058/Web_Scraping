{
 "cells": [
  {
   "cell_type": "code",
   "execution_count": 1,
   "metadata": {},
   "outputs": [],
   "source": [
    "from bs4 import BeautifulSoup"
   ]
  },
  {
   "cell_type": "code",
   "execution_count": 2,
   "metadata": {},
   "outputs": [],
   "source": [
    "employee_html_doc = \"\"\"\n",
    "<employees>\n",
    "    <employee class=\"accountant\">\n",
    "        <firstName>John</firstName>\n",
    "        <lastName>Doe</lastName>\n",
    "    </employee>\n",
    "    <employee class=\"manager\">\n",
    "        <firstName>Anna</firstName>\n",
    "        <lastName>Smith</lastName>\n",
    "    </employee>\n",
    "    <employee class=\"developer\">\n",
    "        <firstName>Peter</firstName>\n",
    "        <lastName>Jones</lastName>\n",
    "    </emplyee>\n",
    "</employees>\n",
    "\n",
    "\"\"\""
   ]
  },
  {
   "cell_type": "code",
   "execution_count": 7,
   "metadata": {},
   "outputs": [],
   "source": [
    "soup_emp = BeautifulSoup(employee_html_doc, 'html.parser')"
   ]
  },
  {
   "cell_type": "code",
   "execution_count": 9,
   "metadata": {},
   "outputs": [
    {
     "data": {
      "text/plain": [
       "<employee class=\"accountant\">\\n<firstname>John</firstname>\\n<lastname>Doe</lastname>\\n</employee>"
      ]
     },
     "execution_count": 9,
     "metadata": {},
     "output_type": "execute_result"
    }
   ],
   "source": [
    "#access and view the tag\n",
    "tag = soup_emp.employee\n",
    "\n",
    "tag"
   ]
  },
  {
   "cell_type": "code",
   "execution_count": 10,
   "metadata": {},
   "outputs": [
    {
     "data": {
      "text/plain": [
       "<employee class=\"manager\">\\n<firstname>John</firstname>\\n<lastname>Doe</lastname>\\n</employee>"
      ]
     },
     "execution_count": 10,
     "metadata": {},
     "output_type": "execute_result"
    }
   ],
   "source": [
    "#Modify the tag\n",
    "tag['class'] = 'manager'\n",
    "tag\n"
   ]
  },
  {
   "cell_type": "code",
   "execution_count": 11,
   "metadata": {},
   "outputs": [
    {
     "data": {
      "text/plain": [
       "\\n<employees>\\n<employee class=\"manager\">\\n<firstname>John</firstname>\\n<lastname>Doe</lastname>\\n</employee>\\n<employee class=\"manager\">\\n<firstname>Anna</firstname>\\n<lastname>Smith</lastname>\\n</employee>\\n<employee class=\"developer\">\\n<firstname>Peter</firstname>\\n<lastname>Jones</lastname>\\n</employee></employees>\\n\\n"
      ]
     },
     "execution_count": 11,
     "metadata": {},
     "output_type": "execute_result"
    }
   ],
   "source": [
    "#view teh soup object to verify the modification\n",
    "soup_emp"
   ]
  },
  {
   "cell_type": "code",
   "execution_count": 12,
   "metadata": {},
   "outputs": [
    {
     "name": "stdout",
     "output_type": "stream",
     "text": [
      "\n",
      "<employees>\n",
      "<employee class=\"manager\">\n",
      "<firstname>John</firstname>\n",
      "<lastname>Doe</lastname>\n",
      "</employee><rank>Manager 1</rank>\n",
      "<employee class=\"manager\">\n",
      "<firstname>Anna</firstname>\n",
      "<lastname>Smith</lastname>\n",
      "</employee>\n",
      "<employee class=\"developer\">\n",
      "<firstname>Peter</firstname>\n",
      "<lastname>Jones</lastname>\n",
      "</employee></employees>\n",
      "\n",
      "\n"
     ]
    }
   ],
   "source": [
    "#add a tag\n",
    "tag = soup_emp.new_tag('rank')\n",
    "tag.string = 'Manager 1'\n",
    "#modify using insert_after method\n",
    "soup_emp.employees.employee.insert_after(tag)\n",
    "print soup_emp"
   ]
  },
  {
   "cell_type": "code",
   "execution_count": 14,
   "metadata": {},
   "outputs": [],
   "source": [
    "#clear all the modified tag\n",
    "tag.clear()"
   ]
  },
  {
   "cell_type": "code",
   "execution_count": 15,
   "metadata": {},
   "outputs": [
    {
     "name": "stdout",
     "output_type": "stream",
     "text": [
      "\n",
      "<employees>\n",
      "<employee class=\"manager\">\n",
      "<firstname>John</firstname>\n",
      "<lastname>Doe</lastname>\n",
      "</employee><rank></rank>\n",
      "<employee class=\"manager\">\n",
      "<firstname>Anna</firstname>\n",
      "<lastname>Smith</lastname>\n",
      "</employee>\n",
      "<employee class=\"developer\">\n",
      "<firstname>Peter</firstname>\n",
      "<lastname>Jones</lastname>\n",
      "</employee></employees>\n",
      "\n",
      "\n"
     ]
    }
   ],
   "source": [
    "#view the soup object\n",
    "print soup_emp\n",
    "#view the soup objectprint"
   ]
  },
  {
   "cell_type": "code",
   "execution_count": 19,
   "metadata": {},
   "outputs": [
    {
     "data": {
      "text/plain": [
       "<employee class=\"manager\">\\n<firstname>John</firstname>\\n<lastname>Doe</lastname>\\n</employee>"
      ]
     },
     "execution_count": 19,
     "metadata": {},
     "output_type": "execute_result"
    }
   ],
   "source": [
    "#create a tag object and view it\n",
    "tag = soup_emp.employees.employee\n",
    "tag"
   ]
  },
  {
   "cell_type": "code",
   "execution_count": 20,
   "metadata": {},
   "outputs": [
    {
     "data": {
      "text/plain": [
       "u'John'"
      ]
     },
     "execution_count": 20,
     "metadata": {},
     "output_type": "execute_result"
    }
   ],
   "source": [
    "#extract the info using extract method\n",
    "tag.firstname.string.extract()"
   ]
  },
  {
   "cell_type": "code",
   "execution_count": 21,
   "metadata": {},
   "outputs": [
    {
     "data": {
      "text/plain": [
       "<firstname></firstname>"
      ]
     },
     "execution_count": 21,
     "metadata": {},
     "output_type": "execute_result"
    }
   ],
   "source": [
    "#modify the tag name\n",
    "tag.firstname.replace_with('first name')"
   ]
  },
  {
   "cell_type": "code",
   "execution_count": 22,
   "metadata": {},
   "outputs": [
    {
     "data": {
      "text/plain": [
       "<employees>\\n<employee class=\"manager\">\\nfirst name\\n<lastname>Doe</lastname>\\n</employee><rank></rank>\\n<employee class=\"manager\">\\n<firstname>Anna</firstname>\\n<lastname>Smith</lastname>\\n</employee>\\n<employee class=\"developer\">\\n<firstname>Peter</firstname>\\n<lastname>Jones</lastname>\\n</employee></employees>"
      ]
     },
     "execution_count": 22,
     "metadata": {},
     "output_type": "execute_result"
    }
   ],
   "source": [
    "#view the change\n",
    "soup_emp.employees"
   ]
  },
  {
   "cell_type": "code",
   "execution_count": null,
   "metadata": {},
   "outputs": [],
   "source": []
  }
 ],
 "metadata": {
  "kernelspec": {
   "display_name": "Python 2",
   "language": "python",
   "name": "python2"
  },
  "language_info": {
   "codemirror_mode": {
    "name": "ipython",
    "version": 2
   },
   "file_extension": ".py",
   "mimetype": "text/x-python",
   "name": "python",
   "nbconvert_exporter": "python",
   "pygments_lexer": "ipython2",
   "version": "2.7.14"
  }
 },
 "nbformat": 4,
 "nbformat_minor": 2
}
