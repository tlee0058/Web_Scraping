{
 "cells": [
  {
   "cell_type": "code",
   "execution_count": 1,
   "metadata": {},
   "outputs": [],
   "source": [
    "from bs4 import BeautifulSoup"
   ]
  },
  {
   "cell_type": "code",
   "execution_count": 2,
   "metadata": {},
   "outputs": [],
   "source": [
    "#sample web doc from www.simplilearn.com website\n",
    "data_SL = \"\"\"\n",
    "    <ul class = \"content-col_discover\">\n",
    "    <h5>Discover</h5>\n",
    "    <li><a href=\"/resources\" id=\"free_resources\">Free resources</a></li>\n",
    "    <li><a href=\"http://community.simplilearn.com/\" id=\"community\">Simplilearn community</a></li>\n",
    "    <li><a href=\"/career-data-labs\" id=\"lab\">Career data labs</a></li>\n",
    "    <li><a href=\"/scholarships-for-veterans\" id=\"scholarship\"> Veterans Scholarships</a></li>\n",
    "    <li><a href=\"http://www.simplilearn.com/feed/\" id=\"rss\">RSS feed</a></li>\n",
    "    </ul>\n",
    "    \n",
    "\"\"\""
   ]
  },
  {
   "cell_type": "code",
   "execution_count": 3,
   "metadata": {},
   "outputs": [],
   "source": [
    "#create soup object\n",
    "soup_SL = BeautifulSoup(data_SL, 'html.parser')"
   ]
  },
  {
   "cell_type": "code",
   "execution_count": 4,
   "metadata": {},
   "outputs": [
    {
     "name": "stdout",
     "output_type": "stream",
     "text": [
      "\n",
      "\n",
      "Discover\n",
      "Free resources\n",
      "Simplilearn community\n",
      "Career data labs\n",
      " Veterans Scholarships\n",
      "RSS feed\n",
      "\n",
      "\n"
     ]
    }
   ],
   "source": [
    "#parse only part of the doc, text(string) values for tags using getTag method\n",
    "print soup_SL.get_text()"
   ]
  },
  {
   "cell_type": "code",
   "execution_count": 5,
   "metadata": {},
   "outputs": [],
   "source": [
    "#import SoupStrainer class for parsing the desired part of the web doc\n",
    "from bs4 import SoupStrainer"
   ]
  },
  {
   "cell_type": "code",
   "execution_count": 6,
   "metadata": {},
   "outputs": [],
   "source": [
    "#create object to parse only the id(link) with lab\n",
    "tags_with_LabLink = SoupStrainer(id=\"lab\")"
   ]
  },
  {
   "cell_type": "code",
   "execution_count": 7,
   "metadata": {},
   "outputs": [
    {
     "name": "stdout",
     "output_type": "stream",
     "text": [
      "<a href=\"/career-data-labs\" id=\"lab\">\n",
      " Career data labs\n",
      "</a>\n"
     ]
    }
   ],
   "source": [
    "#print the part of the parsed doc\n",
    "print(BeautifulSoup(data_SL, 'html.parser', parse_only=tags_with_LabLink).prettify())"
   ]
  },
  {
   "cell_type": "code",
   "execution_count": null,
   "metadata": {},
   "outputs": [],
   "source": []
  }
 ],
 "metadata": {
  "kernelspec": {
   "display_name": "Python 2",
   "language": "python",
   "name": "python2"
  },
  "language_info": {
   "codemirror_mode": {
    "name": "ipython",
    "version": 2
   },
   "file_extension": ".py",
   "mimetype": "text/x-python",
   "name": "python",
   "nbconvert_exporter": "python",
   "pygments_lexer": "ipython2",
   "version": "2.7.14"
  }
 },
 "nbformat": 4,
 "nbformat_minor": 2
}
